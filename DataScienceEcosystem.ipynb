{
 "cells": [
  {
   "cell_type": "markdown",
   "id": "f6ffb8fa-93d2-45ba-a3ac-15cce7e49142",
   "metadata": {},
   "source": [
    "# Data Science Tools And Ecosystem"
   ]
  },
  {
   "cell_type": "markdown",
   "id": "debd595c-ec49-49a0-bdf5-270f612dcacd",
   "metadata": {},
   "source": [
    "In this notebook, Data Science Tools and Ecosystem are summarized"
   ]
  },
  {
   "cell_type": "markdown",
   "id": "a8eab6ea-9285-4806-a012-656ba7ab24a0",
   "metadata": {},
   "source": [
    "Some of the popular languages that Data Scientist use are\n",
    "1. Python\n",
    "2. R\n",
    "3. SQL\n",
    "4. Julia\n",
    "5. VBA (Visual Basic for Application"
   ]
  },
  {
   "cell_type": "markdown",
   "id": "51d9ff51-a635-4003-b0f4-097e723dfc4b",
   "metadata": {},
   "source": [
    "In this exercise is meant to help the students to get more familiar with Jupiter notebook\n",
    "\n",
    "Objective:\n",
    "* To get familiar to the Jupiter notebook\n",
    "* To be able to use markdown\n",
    "* To be able to insert arithmetic expressions\n",
    "* To be able to create table"
   ]
  },
  {
   "cell_type": "markdown",
   "id": "22672602-d9c3-48c1-b316-aadf9c00a95b",
   "metadata": {},
   "source": [
    "Some of the commonly used libraries used by Data Scientists include\n",
    "1. Pandas\n",
    "2. NumPy\n",
    "3. Matplotlib\n",
    "4. Scikit-learn\n",
    "5. Apache Spark\n",
    "6. Tensorflow"
   ]
  },
  {
   "cell_type": "markdown",
   "id": "66b02a49-4ad3-45fd-9966-b1089cd5e3ef",
   "metadata": {},
   "source": [
    "|Data Science Tools|\n",
    "|------------------|\n",
    "|Weka|\n",
    "|Scrapy|\n",
    "|Pandas|"
   ]
  },
  {
   "cell_type": "markdown",
   "id": "ac92920d-479a-442a-bd38-1dd9823aa0ee",
   "metadata": {},
   "source": [
    "### Below are a few examples of evaluating arithemetic expressions in Python"
   ]
  },
  {
   "cell_type": "markdown",
   "id": "b20aa8c3-6ede-4e9e-86a7-94f5399bbfef",
   "metadata": {},
   "source": [
    "This is a simple arithmetic expression to multiply then add integers"
   ]
  },
  {
   "cell_type": "code",
   "execution_count": 1,
   "id": "6f40ecc4-d7a6-46b8-be8f-fdaa6295ff6d",
   "metadata": {},
   "outputs": [
    {
     "data": {
      "text/plain": [
       "17"
      ]
     },
     "execution_count": 1,
     "metadata": {},
     "output_type": "execute_result"
    }
   ],
   "source": [
    "(3*4)+5"
   ]
  },
  {
   "cell_type": "code",
   "execution_count": 2,
   "id": "a5ce931a-e353-46d3-aeb5-44c3f2e2dc10",
   "metadata": {},
   "outputs": [
    {
     "data": {
      "text/plain": [
       "3.3333333333333335"
      ]
     },
     "execution_count": 2,
     "metadata": {},
     "output_type": "execute_result"
    }
   ],
   "source": [
    "200/60"
   ]
  },
  {
   "cell_type": "markdown",
   "id": "31d1ee03-a90a-4b66-b56d-0ad44e0d81f0",
   "metadata": {},
   "source": [
    "## Author"
   ]
  },
  {
   "cell_type": "markdown",
   "id": "914268ee-4593-4a29-84b9-00d0d1a3df92",
   "metadata": {},
   "source": [
    "Kasa Yohanna G."
   ]
  }
 ],
 "metadata": {
  "kernelspec": {
   "display_name": "Python 3 (ipykernel)",
   "language": "python",
   "name": "python3"
  },
  "language_info": {
   "codemirror_mode": {
    "name": "ipython",
    "version": 3
   },
   "file_extension": ".py",
   "mimetype": "text/x-python",
   "name": "python",
   "nbconvert_exporter": "python",
   "pygments_lexer": "ipython3",
   "version": "3.11.7"
  }
 },
 "nbformat": 4,
 "nbformat_minor": 5
}
